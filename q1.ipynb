{
 "cells": [
  {
   "cell_type": "markdown",
   "metadata": {},
   "source": [
    "# Classificação de Texto\n",
    "\n",
    "Classificação de texto é uma das tarefas mais comuns em NLP. \n",
    "\n",
    "Neste notebook, classificaremos os textos da base ReutersGrain, que contém notícias sobre o mercado de grãos."
   ]
  },
  {
   "cell_type": "markdown",
   "metadata": {},
   "source": [
    "## Importando bibliotecas necessárias"
   ]
  },
  {
   "cell_type": "code",
   "execution_count": 1,
   "metadata": {},
   "outputs": [],
   "source": [
    "import csv\n",
    "import pandas as pd\n",
    "import nltk"
   ]
  },
  {
   "cell_type": "code",
   "execution_count": 2,
   "metadata": {},
   "outputs": [],
   "source": [
    "import warnings\n",
    "warnings.filterwarnings(\"ignore\")"
   ]
  },
  {
   "cell_type": "markdown",
   "metadata": {},
   "source": [
    "## Carregando a base de dados"
   ]
  },
  {
   "cell_type": "markdown",
   "metadata": {},
   "source": [
    "Precisamos definir uma função para carregar a base de dados, pois existem vírgulas dentro do próprio texto, o que pode atrapalhar a leitura do arquivo."
   ]
  },
  {
   "cell_type": "code",
   "execution_count": 3,
   "metadata": {},
   "outputs": [],
   "source": [
    "# Function to parse the CSV file considering the special structure\n",
    "def parse_csv(file_path):\n",
    "    data = []\n",
    "    with open(file_path, 'r', encoding='utf-8') as file:\n",
    "        reader = csv.reader(file, quotechar=\"'\", escapechar='\\\\')\n",
    "        next(reader)  # Skip header\n",
    "        for row in reader:\n",
    "            if len(row) == 2:\n",
    "                data.append(row)\n",
    "            else:\n",
    "                # Handle cases where the text contains commas\n",
    "                text = ','.join(row[:-1])\n",
    "                classification = row[-1]\n",
    "                data.append([text, classification])\n",
    "    return pd.DataFrame(data, columns=['Text', 'Classification'])"
   ]
  },
  {
   "cell_type": "code",
   "execution_count": 4,
   "metadata": {},
   "outputs": [
    {
     "name": "stdout",
     "output_type": "stream",
     "text": [
      "Train data dimensions:  (1554, 2)\n",
      "Test data dimensions:  (604, 2)\n"
     ]
    }
   ],
   "source": [
    "# Parsing the file\n",
    "parsed_train_data = parse_csv(\"data/train.csv\")\n",
    "parsed_test_data = parse_csv(\"data/test.csv\")\n",
    "\n",
    "# Print the dimensions of train and test data\n",
    "print(\"Train data dimensions: \", parsed_train_data.shape)\n",
    "print(\"Test data dimensions: \", parsed_test_data.shape)"
   ]
  },
  {
   "cell_type": "markdown",
   "metadata": {},
   "source": [
    "## Separando os dados em treino e teste"
   ]
  },
  {
   "cell_type": "code",
   "execution_count": 7,
   "metadata": {},
   "outputs": [],
   "source": [
    "X_train = parsed_train_data['Text']\n",
    "y_train = parsed_train_data['Classification']\n",
    "\n",
    "X_test = parsed_test_data['Text']\n",
    "y_test = parsed_test_data['Classification']"
   ]
  },
  {
   "cell_type": "markdown",
   "metadata": {},
   "source": [
    "## Pré-processamento dos dados"
   ]
  },
  {
   "cell_type": "code",
   "execution_count": 8,
   "metadata": {},
   "outputs": [
    {
     "name": "stderr",
     "output_type": "stream",
     "text": [
      "[nltk_data] Downloading package punkt to\n",
      "[nltk_data]     C:\\Users\\pedro\\AppData\\Roaming\\nltk_data...\n",
      "[nltk_data]   Package punkt is already up-to-date!\n",
      "[nltk_data] Downloading package stopwords to\n",
      "[nltk_data]     C:\\Users\\pedro\\AppData\\Roaming\\nltk_data...\n",
      "[nltk_data]   Package stopwords is already up-to-date!\n"
     ]
    },
    {
     "data": {
      "text/plain": [
       "True"
      ]
     },
     "execution_count": 8,
     "metadata": {},
     "output_type": "execute_result"
    }
   ],
   "source": [
    "from nltk.tokenize import word_tokenize\n",
    "from nltk.corpus import stopwords\n",
    "from nltk.stem import PorterStemmer\n",
    "\n",
    "# Downloading the necessary NLTK data\n",
    "nltk.download(\"punkt\")\n",
    "nltk.download(\"stopwords\")"
   ]
  },
  {
   "cell_type": "markdown",
   "metadata": {},
   "source": [
    "Para o pré-processamento dos dados, vamos utilizar o pacote NLTK.\n",
    "\n",
    "Serão realizadas as seguintes etapas:\n",
    "\n",
    "- Tokenização\n",
    "- Conversão para minúsculas\n",
    "- Remoção de pontuação e caracteres especiais\n",
    "- Remoção de stopwords\n",
    "- Stemming"
   ]
  },
  {
   "cell_type": "code",
   "execution_count": 9,
   "metadata": {},
   "outputs": [],
   "source": [
    "def preprocess_text(text):\n",
    "    '''\n",
    "    Takes in a string of text, then performs the following:\n",
    "    1. Tokenizes the sentence into words\n",
    "    2. Removes non-alphabetic characters\n",
    "    3. Converts all characters to lowercase\n",
    "    4. Removes stopwords\n",
    "    5. Stems the words\n",
    "    6. Joins the stemmed words back into one string\n",
    "    '''\n",
    "    tokens = word_tokenize(text)\n",
    "    stop_words = set(stopwords.words(\"english\"))\n",
    "    filtered_tokens = [token.lower() for token in tokens if token.isalpha() and token.lower() not in stop_words]\n",
    "    stemmer = PorterStemmer()\n",
    "    stemmed_tokens = [stemmer.stem(token) for token in filtered_tokens]\n",
    "    return \" \".join(stemmed_tokens)"
   ]
  },
  {
   "cell_type": "code",
   "execution_count": 10,
   "metadata": {},
   "outputs": [],
   "source": [
    "# Preprocessing the training data\n",
    "X_train_preprocessed = [preprocess_text(text) for text in X_train]\n",
    "\n",
    "# Preprocessing the test data\n",
    "X_test_preprocessed = [preprocess_text(text) for text in X_test]"
   ]
  },
  {
   "cell_type": "markdown",
   "metadata": {},
   "source": [
    "## Vetorização dos dados\n",
    "\n",
    "Modelos de aprendizado de máquina não conseguem lidar com dados textuais. Portanto, precisamos transformar os textos em vetores numéricos.\n",
    "\n",
    "Aqui, utilizaremos o modelo TF-IDF para vetorizar os textos.\n",
    "\n",
    "O modelo TF-IDF é uma combinação de duas métricas: TF (Term Frequency) e IDF (Inverse Document Frequency).\n",
    "\n",
    "A métrica TF mede a frequência de um termo em um documento. A métrica IDF mede a importância de um termo em um conjunto de documentos.\n",
    "\n",
    "A importância de um termo aumenta proporcionalmente à medida que o número de ocorrências do termo no documento aumenta. No entanto, a importância do termo diminui à medida que o número de ocorrências do termo em outros documentos aumenta."
   ]
  },
  {
   "cell_type": "code",
   "execution_count": 11,
   "metadata": {},
   "outputs": [],
   "source": [
    "from sklearn.feature_extraction.text import TfidfVectorizer\n",
    "\n",
    "# Creating the TF-IDF vectorizer\n",
    "vectorizer = TfidfVectorizer()\n",
    "\n",
    "# Fitting the vectorizer to the training data\n",
    "X_train_transformed = vectorizer.fit_transform(X_train_preprocessed)"
   ]
  },
  {
   "cell_type": "markdown",
   "metadata": {},
   "source": [
    "Note que precisamos usar o mesmo modelo de vetorização para os dados de treino e teste.\n",
    "\n",
    "Caso contrário, as dimensões resultantes não seriam compatíveis."
   ]
  },
  {
   "cell_type": "code",
   "execution_count": 12,
   "metadata": {},
   "outputs": [],
   "source": [
    "# Transforming the test data\n",
    "X_test_transformed = vectorizer.transform(X_test_preprocessed)"
   ]
  },
  {
   "cell_type": "markdown",
   "metadata": {},
   "source": [
    "## Definindo o modelo\n",
    "\n",
    "Para classificar os textos, utilizaremos o modelo Multinomial Naive Bayes.\n",
    "\n",
    "Este modelo é baseado no Teorema de Bayes e é muito utilizado para classificação de textos.\n",
    "\n",
    "Multinomial Naive Bayes é uma versão do modelo Naive Bayes que utiliza a distribuição multinomial para calcular a probabilidade de um documento pertencer a uma classe."
   ]
  },
  {
   "cell_type": "code",
   "execution_count": 13,
   "metadata": {},
   "outputs": [
    {
     "name": "stdout",
     "output_type": "stream",
     "text": [
      "Accuracy: 0.9056291390728477\n"
     ]
    }
   ],
   "source": [
    "from sklearn.naive_bayes import MultinomialNB\n",
    "\n",
    "# Creating the classifier\n",
    "classifier = MultinomialNB()\n",
    "\n",
    "# Training the classifier\n",
    "classifier.fit(X_train_transformed, y_train)\n",
    "\n",
    "# Making predictions on the test data\n",
    "y_pred = classifier.predict(X_test_transformed)\n",
    "\n",
    "# Evaluating the model\n",
    "from sklearn.metrics import accuracy_score\n",
    "accuracy = accuracy_score(y_test, y_pred)\n",
    "\n",
    "print(\"Accuracy:\", accuracy)"
   ]
  },
  {
   "cell_type": "markdown",
   "metadata": {},
   "source": [
    "Utilizando GridSearch e Cross Validation, procuramos os melhores parâmetros para o modelo."
   ]
  },
  {
   "cell_type": "code",
   "execution_count": 14,
   "metadata": {},
   "outputs": [
    {
     "name": "stdout",
     "output_type": "stream",
     "text": [
      "Accuracy: 0.945364238410596\n"
     ]
    }
   ],
   "source": [
    "from sklearn.model_selection import GridSearchCV\n",
    "\n",
    "# Define the parameter grid\n",
    "param_grid = {\n",
    "    'alpha': [0.01, 0.1, 0.5, 1.0, 10.0],\n",
    "}\n",
    "\n",
    "# Create a GridSearchCV object\n",
    "grid_search = GridSearchCV(MultinomialNB(), param_grid, cv=5, scoring='accuracy')\n",
    "\n",
    "# Fit the GridSearchCV object to the data\n",
    "grid_search.fit(X_train_transformed, y_train)\n",
    "\n",
    "# Get the best parameters\n",
    "best_params = grid_search.best_params_\n",
    "\n",
    "# Train a new classifier using the best parameters\n",
    "classifier = MultinomialNB(alpha=best_params['alpha'])\n",
    "classifier.fit(X_train_transformed, y_train)\n",
    "\n",
    "# Make predictions on the test data\n",
    "y_pred = classifier.predict(X_test_transformed)\n",
    "\n",
    "# Evaluate the model\n",
    "accuracy = accuracy_score(y_test, y_pred)\n",
    "print(\"Accuracy:\", accuracy)"
   ]
  },
  {
   "cell_type": "markdown",
   "metadata": {},
   "source": [
    "## Gradient Boosting\n",
    "\n",
    "Gradient Boosting é um algoritmo de aprendizado de máquina que utiliza árvores de decisão como base para construir um modelo preditivo.\n",
    "\n",
    "O algoritmo Gradient Boosting constrói um modelo aditivo de forma progressiva, ou seja, adiciona uma árvore de decisão de cada vez ao modelo.\n",
    "\n",
    "Vamos utilizar o algoritmo Gradient Boosting para classificar os textos."
   ]
  },
  {
   "cell_type": "code",
   "execution_count": 15,
   "metadata": {},
   "outputs": [
    {
     "name": "stdout",
     "output_type": "stream",
     "text": [
      "Cross-validation scores: [0.97427653 0.99356913 0.96784566 0.95819936 0.99032258]\n",
      "Mean cross-validation score: 0.9768426511772637\n",
      "Accuracy: 0.9784768211920529\n"
     ]
    }
   ],
   "source": [
    "from sklearn.ensemble import GradientBoostingClassifier\n",
    "from sklearn.model_selection import cross_val_score\n",
    "\n",
    "# Create a GradientBoostingClassifier object\n",
    "classifier = GradientBoostingClassifier(n_estimators=100, learning_rate=1.0, max_depth=1)\n",
    "\n",
    "# Perform 5-fold cross-validation\n",
    "scores = cross_val_score(classifier, X_train_transformed, y_train, cv=5)\n",
    "\n",
    "# Print the cross-validation scores\n",
    "print(\"Cross-validation scores:\", scores)\n",
    "\n",
    "# Print the mean cross-validation score\n",
    "print(\"Mean cross-validation score:\", scores.mean())\n",
    "\n",
    "# Fit the classifier to the data\n",
    "classifier.fit(X_train_transformed, y_train)\n",
    "\n",
    "# Make predictions on the test data\n",
    "y_pred = classifier.predict(X_test_transformed)\n",
    "\n",
    "# Evaluate the model\n",
    "accuracy = accuracy_score(y_test, y_pred)\n",
    "print(\"Accuracy:\", accuracy)"
   ]
  },
  {
   "cell_type": "markdown",
   "metadata": {},
   "source": [
    "Podemos melhorar a performance do modelo alterando alguns parâmetros.\n",
    "\n",
    "Faremos isso através de GridSearch e Cross Validation."
   ]
  },
  {
   "cell_type": "code",
   "execution_count": 16,
   "metadata": {},
   "outputs": [
    {
     "name": "stdout",
     "output_type": "stream",
     "text": [
      "Accuracy: 0.9900662251655629\n"
     ]
    }
   ],
   "source": [
    "from sklearn.ensemble import GradientBoostingClassifier\n",
    "\n",
    "# Define the parameter grid\n",
    "param_grid = {\n",
    "    \"n_estimators\": [100, 200, 300],\n",
    "    \"learning_rate\": [0.01, 0.1, 1.0],\n",
    "    \"max_depth\": [1, 3, 5],\n",
    "}\n",
    "\n",
    "# Create a GridSearchCV object\n",
    "grid_search = GridSearchCV(\n",
    "    GradientBoostingClassifier(), param_grid, cv=5, scoring=\"accuracy\", n_jobs=3\n",
    ")\n",
    "\n",
    "# Fit the GridSearchCV object to the data\n",
    "grid_search.fit(X_train_transformed, y_train)\n",
    "\n",
    "# Get the best parameters\n",
    "best_params = grid_search.best_params_\n",
    "\n",
    "# Train a new classifier using the best parameters\n",
    "classifier = GradientBoostingClassifier(\n",
    "    n_estimators=best_params[\"n_estimators\"],\n",
    "    learning_rate=best_params[\"learning_rate\"],\n",
    "    max_depth=best_params[\"max_depth\"],\n",
    ")\n",
    "classifier.fit(X_train_transformed, y_train)\n",
    "\n",
    "# Make predictions on the test data\n",
    "y_pred = classifier.predict(X_test_transformed)\n",
    "\n",
    "# Evaluate the model\n",
    "accuracy = accuracy_score(y_test, y_pred)\n",
    "print(\"Accuracy:\", accuracy)"
   ]
  },
  {
   "cell_type": "markdown",
   "metadata": {},
   "source": [
    "Utilizando GridSearch e Cross Validation, obtivemos, para o modelo de Gradient Boosting, os seguintes parâmetros:\n",
    "\n",
    "```\n",
    "{'learning_rate': 1.0, 'max_depth': 5, 'n_estimators': 200}\n",
    "```\n",
    "\n",
    "A acurácia do modelo foi de 0.99, a melhor até agora.\n",
    "\n",
    "A seguir, exibimos a matriz de confusão do modelo."
   ]
  },
  {
   "cell_type": "code",
   "execution_count": 18,
   "metadata": {},
   "outputs": [
    {
     "data": {
      "text/plain": [
       "<Axes: >"
      ]
     },
     "execution_count": 18,
     "metadata": {},
     "output_type": "execute_result"
    },
    {
     "data": {
      "image/png": "[encoded data removed]",
      "text/plain": [
       "<Figure size 640x480 with 2 Axes>"
      ]
     },
     "metadata": {},
     "output_type": "display_data"
    }
   ],
   "source": [
    "import seaborn as sns\n",
    "from sklearn.metrics import confusion_matrix\n",
    "\n",
    "# Compute the confusion matrix\n",
    "cm = confusion_matrix(y_test, y_pred)\n",
    "\n",
    "# Plot the confusion matrix\n",
    "sns.heatmap(cm, annot=True, fmt=\"d\", cmap=\"Blues\")\n"
   ]
  }
 ],
 "metadata": {
  "kernelspec": {
   "display_name": "ML_Old",
   "language": "python",
   "name": "python3"
  },
  "language_info": {
   "codemirror_mode": {
    "name": "ipython",
    "version": 3
   },
   "file_extension": ".py",
   "mimetype": "text/x-python",
   "name": "python",
   "nbconvert_exporter": "python",
   "pygments_lexer": "ipython3",
   "version": "3.11.5"
  }
 },
 "nbformat": 4,
 "nbformat_minor": 2
}
